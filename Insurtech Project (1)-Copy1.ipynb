{
 "cells": [
  {
   "cell_type": "markdown",
   "id": "8fd6a7af",
   "metadata": {},
   "source": [
    "Introduction\n",
    "\n",
    "In today's dynamic insurance landscape, accurate premium estimation is crucial for both insurers and policyholders. Our project leverages data analysis, geospatial insights, and machine learning to develop a predictive model that tailors insurance premiums to individual vehicles. By considering factors such as vehicle characteristics, driving behavior, and geographic influences, we empower insurers to make informed pricing decisions while ensuring policyholders receive customized and fair insurance rates. Join us on a journey to enhance the precision of insurance premium calculations, improving risk assessment and customer satisfaction."
   ]
  },
  {
   "cell_type": "markdown",
   "id": "b87d6b6b",
   "metadata": {},
   "source": [
    "Problem Statement\n",
    "\n",
    "Develop a data analysis and modeling pipeline for an insurance company to estimate insurance premiums for vehicles based on their characteristics and driving behavior. The goal is to build a predictive model that can accurately calculate the insurance premium for a given vehicle, taking into account factors such as the vehicle type, speed, and location."
   ]
  },
  {
   "cell_type": "markdown",
   "id": "9a2d22ef",
   "metadata": {},
   "source": [
    "Key Components of Solving this Problem\n",
    "\n",
    "1. Data Ingestion. The problem involves reading data from an external source, a report file ('1MData.rpt' in this case), and converting it into a usable format (i.e. a Pandas DataFrame).\n",
    "\n",
    "2. Data Preprocessing. The code performs various data preprocessing tasks, such as splitting date and time from a timestamp, calculating total distances driven by each vehicle, and computing average speeds. These preprocessing steps are essential for feature engineering and model building.\n",
    "\n",
    "3. Geospatial Analysis. The code uses GeoPandas to work with geospatial data and potentially includes the geographical location('geometry')as a factor in premium estimation.\n",
    "\n",
    "4. Feature Selection. The code selects specific features ('vehicle', 'speed', 'geometry', etc.) to be used for premium prediction.\n",
    "\n",
    "5. Machine Learning Modeling. The code uses a machine learning regression model (Linear Regression) to build a predictive model. It splits the data into training and testing sets, fits the model to the training data, and evaluates its performance using Mean Squared Error (MSE). The model aims to predict the 'premium' variable based on the selected features.\n",
    "\n",
    "6. Business Context. The problem is situated in the context of an insurance company looking to price insurance premiums for vehicles accurately. The 'premium' variable represents the financial amount the company would charge customers for coverage.\n",
    "\n",
    "7. Customization. The model should be flexible enough to provide customized premium estimates for individual vehicles based on their specific attributes and driving behavior.\n",
    "\n",
    "8. Performance Evaluation. The code calculates and reports the performance of the predictive model using the MSE metric, which quantifies the accuracy of premium predictions."
   ]
  },
  {
   "cell_type": "markdown",
   "id": "b6205c2e",
   "metadata": {},
   "source": [
    "The goals of the project encompass building an accurate premium prediction model, leveraging data analysis and geospatial analysis to inform pricing decisions, and providing customized insurance premium estimates while adhering to industry standards and compliance. The project aims to enhance the insurance company's ability to set competitive and actuarially sound premium rates. \n"
   ]
  },
  {
   "cell_type": "code",
   "execution_count": 290,
   "id": "bec80a77",
   "metadata": {},
   "outputs": [],
   "source": [
    "#Here it is necessary to import necessary libraries and modules\n",
    "import geopandas as gp\n",
    "import pandas as pd\n",
    "import fiona\n",
    "import pyogrio\n",
    "import geopandas as gpd\n",
    "import matplotlib.pyplot as plt\n",
    "from shapely.geometry import Point\n",
    "from datetime import datetime\n",
    "from sklearn.model_selection import train_test_split\n",
    "from sklearn.linear_model import LinearRegression\n",
    "from sklearn.metrics import mean_squared_error\n",
    "from sklearn.metrics import r2_score"
   ]
  },
  {
   "cell_type": "markdown",
   "id": "202ac7d5",
   "metadata": {},
   "source": [
    "This line sets the variable myfile to the string \"1MData.rpt\", which appears to be a filename or path."
   ]
  },
  {
   "cell_type": "code",
   "execution_count": 274,
   "id": "564929f0",
   "metadata": {},
   "outputs": [],
   "source": [
    "#myfile is defined as the filename '1MData.rpt'.\n",
    "myfile='1MData.rpt'"
   ]
  },
  {
   "cell_type": "code",
   "execution_count": 275,
   "id": "2d7d1d71",
   "metadata": {},
   "outputs": [],
   "source": [
    "#The read_rpt function is defined here. It reads the content of a text file specified by the myfile parameter. \n",
    "#The read_rpt function is defined to read the content of a text file specified by the myfile parameter and create a \n",
    "#Pandas DataFrame from it. \n",
    "def read_rpt(myfile):\n",
    "    #Function that helps import rpt file and create pandas dataframe\n",
    "    count = 1#Initializes a variable count to 1. \n",
    "    #This variable will be used to keep track of the line number being read from the file.\n",
    "    colspecs = []#Initializes an empty list called colspecs. This list will be used to store the \n",
    "    #column specifications for reading the data from the file.\n",
    "    idx = 0 #Initializes an index variable idx to 0. This variable will be used to keep \n",
    "    #track of the starting position of each column in the file.\n",
    "    for x in open(myfile, encoding='utf8'): #Opens the file specified by the myfile parameter for reading, with UTF-8 encoding. \n",
    "        #It then enters a loop to iterate through each line in the file.\n",
    "        cols = x.rstrip()  # remove newline character--Reads a line from the file, removes any trailing newline character \n",
    "        #('\\n') using the rstrip() method, and stores the cleaned line in the cols variable.\n",
    "        count += 1#Increments the count variable to keep track of the line number being processed.\n",
    "        if count > 2:#Checks if the line number is greater than 2. If it is, it means that the first two lines(header or metadata) have already been read, and it breaks out of \n",
    "            #the loop. This is because the code assumes that the column specifications can be determined after \n",
    "            #the first two lines.\n",
    "            break\n",
    "    # build colspecs list that specifies the starting and end positions of each column in the file.\n",
    "    for c in cols.split(' '):\n",
    "        n = len(c)\n",
    "        colspecs.append((idx, idx + n))\n",
    "        idx += 1 + n\n",
    "    return pd.read_fwf(myfile, colspecs=colspecs, encoding='utf8', skiprows=[1])"
   ]
  },
  {
   "cell_type": "markdown",
   "id": "4b9ecb78",
   "metadata": {},
   "source": [
    "The goe_df function takes a Pandas DataFrame as an input and converts it into a Shapely geometries (Points).  It also drops the 'longitude' and 'latitude' columns from the DataFrame and creates a GeoDataFrame using GeoPandas with the specified CRS(Coordinate Reference System). The function returns the GeoDataFrame called gdf.\n"
   ]
  },
  {
   "cell_type": "code",
   "execution_count": 276,
   "id": "79494eb5",
   "metadata": {},
   "outputs": [],
   "source": [
    "def geo_df(pandas_df):\n",
    "    #goe_df function takes a Pandas DataFrame as an input and converts it into a Shapely geometries (Points)\n",
    "    #Convert the DataFrame's content into Shapely geometries\n",
    "    geometry = [Point(xy) for xy in zip(pandas_df.longitude, pandas_df.latitude)]\n",
    "    udf = pandas_df.drop(['longitude', 'latitude'], axis=1)\n",
    "    gdf = gp.GeoDataFrame(udf, crs=\"EPSG:4326\", geometry=geometry)\n",
    "    return gdf"
   ]
  },
  {
   "cell_type": "markdown",
   "id": "3c9005d5",
   "metadata": {},
   "source": [
    "Here the premium Function calculates premium amounts based on distance and speed.\n",
    "It defines rules for calculating premiums based on the values of distance and speed.\n",
    "The calculated premiums are returned as a list.\n",
    "\n",
    "Distance Premium Calculation:\n",
    "\n",
    "The function iterates through the distance list using a for loop.\n",
    "For each distance value i, it checks different conditions to determine the premium for that distance.\n",
    "If the distance is less than 16,094 meters, a premium of 50 is assigned.\n",
    "If the distance is between 16,904 and 24,141 meters, a premium of 80 is assigned.\n",
    "If the distance is between 24,141 and 48,282 meters (twice 24,141), a premium of 120 is assigned.\n",
    "If the distance is between 48,282 and 96,564 meters (twice 48,282), a premium of 160 is assigned.\n",
    "If the distance is between 96,564 and 193,128 meters (twice 96,564), a premium of 205 is assigned.\n",
    "If none of the conditions are met, a default premium of 300 is assigned.\n",
    "The calculated premium for each distance value is appended to the distance_calc list.\n",
    "\n",
    "Speed Premium Calculation:\n",
    "\n",
    "The function iterates through the speed list using a for loop.\n",
    "For each speed value j, it checks different conditions to determine the premium for that speed.\n",
    "If the speed is less than 41 km/h, a premium of 15 is assigned.\n",
    "If the speed is between 41 km/h and 105 km/h, a premium of 25 is assigned.\n",
    "If the speed is between 105 km/h and 129 km/h, a premium of 35 is assigned.\n",
    "If none of the conditions are met, a default premium of 50 is assigned.\n",
    "The calculated premium for each speed value is appended to the speed_calc list.\n"
   ]
  },
  {
   "cell_type": "code",
   "execution_count": 277,
   "id": "cd820eca",
   "metadata": {},
   "outputs": [],
   "source": [
    "def premium(distance, speed):\n",
    "    #Calculate Premium based on distance and speed\n",
    "    base_rate = 30\n",
    "    #These two empty lists will be used to store intermediate premium calculations for distance and speed.\n",
    "    distance_calc = []\n",
    "    speed_calc = []\n",
    "    for i in distance:\n",
    "        if i < 16094:\n",
    "            distance_calc.append(50)\n",
    "        elif (i > 16904) & (i < 24141):\n",
    "            distance_calc.append(80)\n",
    "        elif (i > 24141) & (i < 24141*2):\n",
    "            distance_calc.append(120)\n",
    "        elif (i > 24141*2) & (i < 24141*2*2):\n",
    "            distance_calc.append(160)\n",
    "        elif (i > 24141*2*2) & (i < 24141*2*2*2):\n",
    "            distance_calc.append(205)\n",
    "        else:\n",
    "            distance_calc.append(300)\n",
    "    for j in speed:\n",
    "        if j < 41:\n",
    "            speed_calc.append(15)\n",
    "        elif (j > 41) & (j < 105):\n",
    "            speed_calc.append(25)\n",
    "        elif (j > 105) & (j < 129):\n",
    "            speed_calc.append(35)\n",
    "        else:\n",
    "            speed_calc.append(50)\n",
    "    #This line calculates the total risk for each data point by adding the corresponding values \n",
    "    #from the distance_calc and speed_calc lists.        \n",
    "    risk = [distance_calc[i] + speed_calc[i] for i in range(len(distance_calc))]\n",
    "    #This line calculates the final premium for each data point by adding the base rate (30) to the corresponding \n",
    "    #risk value from the risk list.\n",
    "    premium = [i + base_rate for i in risk]\n",
    "    #The function returns a list of premium values corresponding to the input distance and speed data points.\n",
    "    return premium"
   ]
  },
  {
   "cell_type": "markdown",
   "id": "2f83c8cd",
   "metadata": {},
   "source": [
    "In summary, the premium function takes distance and speed data as input, applies specific rules to calculate individual premiums for each data point, and returns a list of premium values based on those rules. The final premium is a combination of distance-based and speed-based premiums with a fixed base rate"
   ]
  },
  {
   "cell_type": "markdown",
   "id": "b1d55aeb",
   "metadata": {},
   "source": [
    "Here the data is read in from myfile ('1MData.rpt' file) using the read_rpt function and assigns it to the DataFrame df.  The first 10 rows of the DataFrame are printed."
   ]
  },
  {
   "cell_type": "code",
   "execution_count": 278,
   "id": "8f186ec5",
   "metadata": {},
   "outputs": [
    {
     "name": "stdout",
     "output_type": "stream",
     "text": [
      "  vehicle                  utcDate  longitude  latitude  altitude  angle   \n",
      "0   13510  2019-06-13 14:12:52.000    25.2888   35.1171     262.0  323.0  \\\n",
      "1   13510  2019-06-13 14:12:28.000    25.2905   35.1116     246.0  353.0   \n",
      "2   13510  2019-06-13 14:11:35.000    25.2952   35.0993     217.0  318.0   \n",
      "3   13510  2019-06-13 14:11:10.000    25.3010   35.0949     238.0  326.0   \n",
      "4   13510  2019-06-13 14:10:47.000    25.3060   35.0900     268.0  315.0   \n",
      "5   13510  2019-06-13 14:09:53.000    25.3170   35.0808     272.0  297.0   \n",
      "6   13510  2019-06-13 14:15:11.000    25.2724   35.1353     397.0  275.0   \n",
      "7   13510  2019-06-13 14:13:20.000    25.2843   35.1222     289.0  351.0   \n",
      "8   13510  2019-06-13 14:10:23.000    25.3117   35.0855     285.0  316.0   \n",
      "9   13510  2019-06-13 14:18:35.000    25.2564   35.1478     348.0  324.0   \n",
      "\n",
      "   speed  odometer  satellites  \n",
      "0   94.0     638.0        17.0  \n",
      "1   97.0     725.0        17.0  \n",
      "2   97.0     729.0        17.0  \n",
      "3  109.0     710.0        16.0  \n",
      "4  116.0     721.0        17.0  \n",
      "5   87.0     545.0        17.0  \n",
      "6   61.0     576.0        17.0  \n",
      "7   81.0     721.0        17.0  \n",
      "8   97.0     718.0        17.0  \n",
      "9   37.0      70.0        17.0  \n"
     ]
    }
   ],
   "source": [
    "df = read_rpt(myfile)\n",
    "print(df.head(10))"
   ]
  },
  {
   "cell_type": "markdown",
   "id": "a320de70",
   "metadata": {},
   "source": [
    "Below we create a GeoDataFrame.  The code converts the Pandas DataFrame df into a GeoDataFrame gf using the geo_df function."
   ]
  },
  {
   "cell_type": "markdown",
   "id": "b93b9e8f",
   "metadata": {},
   "source": [
    "The \"Vehicle\" column a random keys generated for vehicles\n",
    "The \"utcDate\" column is coordinated with the universal time of the vehicle on the GPS date\n",
    "The \"altitude\" column is the GPS altitude\n",
    "The \"angle\" column is based on two consecutive GPS coordinates\n",
    "The \"speed\" column is the speed of the vehicle based on the GPS\n",
    "The \"odometer\" column is the distance in meters between 2 successive GPS coordinates\n",
    "The \"satellites\" column is the number of satellites seen by the GPS Antenna\n",
    "The \"geometry\" column is the objective for the geopandas module. Maps out the vehichle's route by using coordinates"
   ]
  },
  {
   "cell_type": "code",
   "execution_count": 279,
   "id": "ba8ce39c",
   "metadata": {
    "scrolled": true
   },
   "outputs": [
    {
     "data": {
      "text/html": [
       "<div>\n",
       "<style scoped>\n",
       "    .dataframe tbody tr th:only-of-type {\n",
       "        vertical-align: middle;\n",
       "    }\n",
       "\n",
       "    .dataframe tbody tr th {\n",
       "        vertical-align: top;\n",
       "    }\n",
       "\n",
       "    .dataframe thead th {\n",
       "        text-align: right;\n",
       "    }\n",
       "</style>\n",
       "<table border=\"1\" class=\"dataframe\">\n",
       "  <thead>\n",
       "    <tr style=\"text-align: right;\">\n",
       "      <th></th>\n",
       "      <th>vehicle</th>\n",
       "      <th>utcDate</th>\n",
       "      <th>altitude</th>\n",
       "      <th>angle</th>\n",
       "      <th>speed</th>\n",
       "      <th>odometer</th>\n",
       "      <th>satellites</th>\n",
       "      <th>geometry</th>\n",
       "    </tr>\n",
       "  </thead>\n",
       "  <tbody>\n",
       "    <tr>\n",
       "      <th>0</th>\n",
       "      <td>13510</td>\n",
       "      <td>2019-06-13 14:12:52.000</td>\n",
       "      <td>262.0</td>\n",
       "      <td>323.0</td>\n",
       "      <td>94.0</td>\n",
       "      <td>638.0</td>\n",
       "      <td>17.0</td>\n",
       "      <td>POINT (25.28880 35.11710)</td>\n",
       "    </tr>\n",
       "    <tr>\n",
       "      <th>1</th>\n",
       "      <td>13510</td>\n",
       "      <td>2019-06-13 14:12:28.000</td>\n",
       "      <td>246.0</td>\n",
       "      <td>353.0</td>\n",
       "      <td>97.0</td>\n",
       "      <td>725.0</td>\n",
       "      <td>17.0</td>\n",
       "      <td>POINT (25.29050 35.11160)</td>\n",
       "    </tr>\n",
       "    <tr>\n",
       "      <th>2</th>\n",
       "      <td>13510</td>\n",
       "      <td>2019-06-13 14:11:35.000</td>\n",
       "      <td>217.0</td>\n",
       "      <td>318.0</td>\n",
       "      <td>97.0</td>\n",
       "      <td>729.0</td>\n",
       "      <td>17.0</td>\n",
       "      <td>POINT (25.29520 35.09930)</td>\n",
       "    </tr>\n",
       "    <tr>\n",
       "      <th>3</th>\n",
       "      <td>13510</td>\n",
       "      <td>2019-06-13 14:11:10.000</td>\n",
       "      <td>238.0</td>\n",
       "      <td>326.0</td>\n",
       "      <td>109.0</td>\n",
       "      <td>710.0</td>\n",
       "      <td>16.0</td>\n",
       "      <td>POINT (25.30100 35.09490)</td>\n",
       "    </tr>\n",
       "    <tr>\n",
       "      <th>4</th>\n",
       "      <td>13510</td>\n",
       "      <td>2019-06-13 14:10:47.000</td>\n",
       "      <td>268.0</td>\n",
       "      <td>315.0</td>\n",
       "      <td>116.0</td>\n",
       "      <td>721.0</td>\n",
       "      <td>17.0</td>\n",
       "      <td>POINT (25.30600 35.09000)</td>\n",
       "    </tr>\n",
       "    <tr>\n",
       "      <th>5</th>\n",
       "      <td>13510</td>\n",
       "      <td>2019-06-13 14:09:53.000</td>\n",
       "      <td>272.0</td>\n",
       "      <td>297.0</td>\n",
       "      <td>87.0</td>\n",
       "      <td>545.0</td>\n",
       "      <td>17.0</td>\n",
       "      <td>POINT (25.31700 35.08080)</td>\n",
       "    </tr>\n",
       "    <tr>\n",
       "      <th>6</th>\n",
       "      <td>13510</td>\n",
       "      <td>2019-06-13 14:15:11.000</td>\n",
       "      <td>397.0</td>\n",
       "      <td>275.0</td>\n",
       "      <td>61.0</td>\n",
       "      <td>576.0</td>\n",
       "      <td>17.0</td>\n",
       "      <td>POINT (25.27240 35.13530)</td>\n",
       "    </tr>\n",
       "    <tr>\n",
       "      <th>7</th>\n",
       "      <td>13510</td>\n",
       "      <td>2019-06-13 14:13:20.000</td>\n",
       "      <td>289.0</td>\n",
       "      <td>351.0</td>\n",
       "      <td>81.0</td>\n",
       "      <td>721.0</td>\n",
       "      <td>17.0</td>\n",
       "      <td>POINT (25.28430 35.12220)</td>\n",
       "    </tr>\n",
       "    <tr>\n",
       "      <th>8</th>\n",
       "      <td>13510</td>\n",
       "      <td>2019-06-13 14:10:23.000</td>\n",
       "      <td>285.0</td>\n",
       "      <td>316.0</td>\n",
       "      <td>97.0</td>\n",
       "      <td>718.0</td>\n",
       "      <td>17.0</td>\n",
       "      <td>POINT (25.31170 35.08550)</td>\n",
       "    </tr>\n",
       "    <tr>\n",
       "      <th>9</th>\n",
       "      <td>13510</td>\n",
       "      <td>2019-06-13 14:18:35.000</td>\n",
       "      <td>348.0</td>\n",
       "      <td>324.0</td>\n",
       "      <td>37.0</td>\n",
       "      <td>70.0</td>\n",
       "      <td>17.0</td>\n",
       "      <td>POINT (25.25640 35.14780)</td>\n",
       "    </tr>\n",
       "  </tbody>\n",
       "</table>\n",
       "</div>"
      ],
      "text/plain": [
       "  vehicle                  utcDate  altitude  angle  speed  odometer   \n",
       "0   13510  2019-06-13 14:12:52.000     262.0  323.0   94.0     638.0  \\\n",
       "1   13510  2019-06-13 14:12:28.000     246.0  353.0   97.0     725.0   \n",
       "2   13510  2019-06-13 14:11:35.000     217.0  318.0   97.0     729.0   \n",
       "3   13510  2019-06-13 14:11:10.000     238.0  326.0  109.0     710.0   \n",
       "4   13510  2019-06-13 14:10:47.000     268.0  315.0  116.0     721.0   \n",
       "5   13510  2019-06-13 14:09:53.000     272.0  297.0   87.0     545.0   \n",
       "6   13510  2019-06-13 14:15:11.000     397.0  275.0   61.0     576.0   \n",
       "7   13510  2019-06-13 14:13:20.000     289.0  351.0   81.0     721.0   \n",
       "8   13510  2019-06-13 14:10:23.000     285.0  316.0   97.0     718.0   \n",
       "9   13510  2019-06-13 14:18:35.000     348.0  324.0   37.0      70.0   \n",
       "\n",
       "   satellites                   geometry  \n",
       "0        17.0  POINT (25.28880 35.11710)  \n",
       "1        17.0  POINT (25.29050 35.11160)  \n",
       "2        17.0  POINT (25.29520 35.09930)  \n",
       "3        16.0  POINT (25.30100 35.09490)  \n",
       "4        17.0  POINT (25.30600 35.09000)  \n",
       "5        17.0  POINT (25.31700 35.08080)  \n",
       "6        17.0  POINT (25.27240 35.13530)  \n",
       "7        17.0  POINT (25.28430 35.12220)  \n",
       "8        17.0  POINT (25.31170 35.08550)  \n",
       "9        17.0  POINT (25.25640 35.14780)  "
      ]
     },
     "execution_count": 279,
     "metadata": {},
     "output_type": "execute_result"
    }
   ],
   "source": [
    "gf = geo_df(df)\n",
    "gf.head(10)"
   ]
  },
  {
   "cell_type": "markdown",
   "id": "a946c2f4",
   "metadata": {},
   "source": [
    "For basic statstistics, here the code calculates basic statistics from the data, such as the maximum and minimum speed, longest and shortest trip distances, and prints these statistics."
   ]
  },
  {
   "cell_type": "markdown",
   "id": "f7300c7a",
   "metadata": {},
   "source": [
    "To get basic summary statistics for a Pandas DataFrame, here we use the describe() method, which provides various statistics for each numerical column in the DataFrame. This gives us statistics like count, mean, standard deviation, minimum, 25th percentile (Q1), median (50th percentile), 75th percentile (Q3), and maximum for all numerical columns in your DataFrame df."
   ]
  },
  {
   "cell_type": "code",
   "execution_count": 280,
   "id": "8ea31f54",
   "metadata": {},
   "outputs": [
    {
     "name": "stdout",
     "output_type": "stream",
     "text": [
      "            longitude        latitude        altitude           angle   \n",
      "count  1000000.000000  1000000.000000  1000000.000000  1000000.000000  \\\n",
      "mean        23.141219       38.852909      106.866517      181.467545   \n",
      "std          1.360154        1.680652      158.769074      103.221469   \n",
      "min         19.682400       34.930600        0.000000        0.000000   \n",
      "25%         22.491100       37.960400       16.000000       92.000000   \n",
      "50%         23.005700       38.232600       47.000000      181.000000   \n",
      "75%         23.715000       39.601700      118.000000      272.000000   \n",
      "max         28.653300       45.695500     1274.000000      360.000000   \n",
      "\n",
      "                speed      odometer      satellites  \n",
      "count  1000000.000000  1.000000e+06  1000000.000000  \n",
      "mean        42.997446  2.487190e+04       14.413993  \n",
      "std         35.955315  1.549606e+06        2.959892  \n",
      "min          0.000000  0.000000e+00        4.000000  \n",
      "25%         12.000000  1.600000e+01       13.000000  \n",
      "50%         32.000000  1.260000e+02       15.000000  \n",
      "75%         68.000000  5.980000e+02       16.000000  \n",
      "max        199.000000  9.767810e+07       24.000000  \n"
     ]
    }
   ],
   "source": [
    "summary_statistics = df.describe()\n",
    "print(summary_statistics)\n"
   ]
  },
  {
   "cell_type": "code",
   "execution_count": 281,
   "id": "18e701f9",
   "metadata": {},
   "outputs": [
    {
     "name": "stdout",
     "output_type": "stream",
     "text": [
      "        vehicle                  utcDate       longitude        latitude   \n",
      "count   1000001                  1000000  1000000.000000  1000000.000000  \\\n",
      "unique       45                   944677             NaN             NaN   \n",
      "top       13865  2020-02-06 12:39:40.000             NaN             NaN   \n",
      "freq      82989                        5             NaN             NaN   \n",
      "mean        NaN                      NaN       23.141219       38.852909   \n",
      "std         NaN                      NaN        1.360154        1.680652   \n",
      "min         NaN                      NaN       19.682400       34.930600   \n",
      "25%         NaN                      NaN       22.491100       37.960400   \n",
      "50%         NaN                      NaN       23.005700       38.232600   \n",
      "75%         NaN                      NaN       23.715000       39.601700   \n",
      "max         NaN                      NaN       28.653300       45.695500   \n",
      "\n",
      "              altitude           angle           speed      odometer   \n",
      "count   1000000.000000  1000000.000000  1000000.000000  1.000000e+06  \\\n",
      "unique             NaN             NaN             NaN           NaN   \n",
      "top                NaN             NaN             NaN           NaN   \n",
      "freq               NaN             NaN             NaN           NaN   \n",
      "mean        106.866517      181.467545       42.997446  2.487190e+04   \n",
      "std         158.769074      103.221469       35.955315  1.549606e+06   \n",
      "min           0.000000        0.000000        0.000000  0.000000e+00   \n",
      "25%          16.000000       92.000000       12.000000  1.600000e+01   \n",
      "50%          47.000000      181.000000       32.000000  1.260000e+02   \n",
      "75%         118.000000      272.000000       68.000000  5.980000e+02   \n",
      "max        1274.000000      360.000000      199.000000  9.767810e+07   \n",
      "\n",
      "            satellites  \n",
      "count   1000000.000000  \n",
      "unique             NaN  \n",
      "top                NaN  \n",
      "freq               NaN  \n",
      "mean         14.413993  \n",
      "std           2.959892  \n",
      "min           4.000000  \n",
      "25%          13.000000  \n",
      "50%          15.000000  \n",
      "75%          16.000000  \n",
      "max          24.000000  \n"
     ]
    }
   ],
   "source": [
    "# Include all columns, including non-numeric ones\n",
    "summary_statistics = df.describe(include='all')  \n",
    "print(summary_statistics)\n"
   ]
  },
  {
   "cell_type": "markdown",
   "id": "f6b8cb53",
   "metadata": {},
   "source": [
    "This code generates a summary of basic statistics related to trip distances and speeds in the dataset and prints this summary to the console for the user to see."
   ]
  },
  {
   "cell_type": "code",
   "execution_count": 282,
   "id": "1e574fe8",
   "metadata": {
    "scrolled": true
   },
   "outputs": [
    {
     "name": "stdout",
     "output_type": "stream",
     "text": [
      "Based on the dataset, the shortest trip reported was 0.0 meters, while the longest trip was 97678100.0 meters. The slowest speed recorded was 0.0 km/h and the fastest speed was 199.0 km/h\n"
     ]
    }
   ],
   "source": [
    "#Basic Stats from the data sets\n",
    "#calculates the maximum speed(km/h)fromthe'speed'column ofthe DataFrame df and assigns it to the variable max_speed \n",
    "max_speed = df.speed.max()\n",
    "#calculates the minimum speed(km/h)from the 'speed' column of the DataFrame df and assigns it to the \n",
    "#variable min_speed.\n",
    "min_speed = df.speed.min()\n",
    "#longest_trip calculates the longest trip distance(meters) rom the'odometer'column of the DataFrame df \n",
    "#and assigns it to the variable longest_trip.\n",
    "longest_trip = df.odometer.max()\n",
    "#shortest_trip calculates the shortest trip distance (meters) from the 'odometer' column of \n",
    "#the DataFrame df and assigns it to the variable shortest_trip.\n",
    "shortest_trip = df.odometer.min()\n",
    "#summary creates a string variable summary that includes the shortest and longest \n",
    "#trip distances from longest_trip and shortest_trip. It uses string formatting to insert these values into the text.\n",
    "summary = 'Based on the dataset, the shortest trip reported was {0} meters, while the longest trip was {1} meters.'.format(shortest_trip, longest_trip)\n",
    "#summary_2 creates another string variable summary_2 that includes the slowest and fastest speed values. \n",
    "#It also uses string formatting to insert these values into the text.\n",
    "summary_2 = 'The slowest speed recorded was {0} km/h and the fastest speed was {1} km/h'.format(min_speed, max_speed)\n",
    "#The printed output will provide a summary of the shortest and longest trip distances, as well as the \n",
    "#slowest and fastest recorded speeds in the dataset.\n",
    "print(summary, summary_2)"
   ]
  },
  {
   "cell_type": "code",
   "execution_count": 283,
   "id": "61604bbf",
   "metadata": {},
   "outputs": [
    {
     "data": {
      "text/html": [
       "<div>\n",
       "<style scoped>\n",
       "    .dataframe tbody tr th:only-of-type {\n",
       "        vertical-align: middle;\n",
       "    }\n",
       "\n",
       "    .dataframe tbody tr th {\n",
       "        vertical-align: top;\n",
       "    }\n",
       "\n",
       "    .dataframe thead th {\n",
       "        text-align: right;\n",
       "    }\n",
       "</style>\n",
       "<table border=\"1\" class=\"dataframe\">\n",
       "  <thead>\n",
       "    <tr style=\"text-align: right;\">\n",
       "      <th></th>\n",
       "      <th>vehicle</th>\n",
       "      <th>dates</th>\n",
       "      <th>times</th>\n",
       "      <th>longitude</th>\n",
       "      <th>latitude</th>\n",
       "      <th>altitude</th>\n",
       "      <th>angle</th>\n",
       "      <th>speed</th>\n",
       "      <th>odometer</th>\n",
       "      <th>satellites</th>\n",
       "    </tr>\n",
       "  </thead>\n",
       "  <tbody>\n",
       "    <tr>\n",
       "      <th>0</th>\n",
       "      <td>13510</td>\n",
       "      <td>2019-06-13</td>\n",
       "      <td>14:12:52</td>\n",
       "      <td>25.2888</td>\n",
       "      <td>35.1171</td>\n",
       "      <td>262.0</td>\n",
       "      <td>323.0</td>\n",
       "      <td>94.0</td>\n",
       "      <td>638.0</td>\n",
       "      <td>17.0</td>\n",
       "    </tr>\n",
       "    <tr>\n",
       "      <th>1</th>\n",
       "      <td>13510</td>\n",
       "      <td>2019-06-13</td>\n",
       "      <td>14:12:28</td>\n",
       "      <td>25.2905</td>\n",
       "      <td>35.1116</td>\n",
       "      <td>246.0</td>\n",
       "      <td>353.0</td>\n",
       "      <td>97.0</td>\n",
       "      <td>725.0</td>\n",
       "      <td>17.0</td>\n",
       "    </tr>\n",
       "    <tr>\n",
       "      <th>2</th>\n",
       "      <td>13510</td>\n",
       "      <td>2019-06-13</td>\n",
       "      <td>14:11:35</td>\n",
       "      <td>25.2952</td>\n",
       "      <td>35.0993</td>\n",
       "      <td>217.0</td>\n",
       "      <td>318.0</td>\n",
       "      <td>97.0</td>\n",
       "      <td>729.0</td>\n",
       "      <td>17.0</td>\n",
       "    </tr>\n",
       "    <tr>\n",
       "      <th>3</th>\n",
       "      <td>13510</td>\n",
       "      <td>2019-06-13</td>\n",
       "      <td>14:11:10</td>\n",
       "      <td>25.3010</td>\n",
       "      <td>35.0949</td>\n",
       "      <td>238.0</td>\n",
       "      <td>326.0</td>\n",
       "      <td>109.0</td>\n",
       "      <td>710.0</td>\n",
       "      <td>16.0</td>\n",
       "    </tr>\n",
       "    <tr>\n",
       "      <th>4</th>\n",
       "      <td>13510</td>\n",
       "      <td>2019-06-13</td>\n",
       "      <td>14:10:47</td>\n",
       "      <td>25.3060</td>\n",
       "      <td>35.0900</td>\n",
       "      <td>268.0</td>\n",
       "      <td>315.0</td>\n",
       "      <td>116.0</td>\n",
       "      <td>721.0</td>\n",
       "      <td>17.0</td>\n",
       "    </tr>\n",
       "    <tr>\n",
       "      <th>5</th>\n",
       "      <td>13510</td>\n",
       "      <td>2019-06-13</td>\n",
       "      <td>14:09:53</td>\n",
       "      <td>25.3170</td>\n",
       "      <td>35.0808</td>\n",
       "      <td>272.0</td>\n",
       "      <td>297.0</td>\n",
       "      <td>87.0</td>\n",
       "      <td>545.0</td>\n",
       "      <td>17.0</td>\n",
       "    </tr>\n",
       "    <tr>\n",
       "      <th>6</th>\n",
       "      <td>13510</td>\n",
       "      <td>2019-06-13</td>\n",
       "      <td>14:15:11</td>\n",
       "      <td>25.2724</td>\n",
       "      <td>35.1353</td>\n",
       "      <td>397.0</td>\n",
       "      <td>275.0</td>\n",
       "      <td>61.0</td>\n",
       "      <td>576.0</td>\n",
       "      <td>17.0</td>\n",
       "    </tr>\n",
       "    <tr>\n",
       "      <th>7</th>\n",
       "      <td>13510</td>\n",
       "      <td>2019-06-13</td>\n",
       "      <td>14:13:20</td>\n",
       "      <td>25.2843</td>\n",
       "      <td>35.1222</td>\n",
       "      <td>289.0</td>\n",
       "      <td>351.0</td>\n",
       "      <td>81.0</td>\n",
       "      <td>721.0</td>\n",
       "      <td>17.0</td>\n",
       "    </tr>\n",
       "    <tr>\n",
       "      <th>8</th>\n",
       "      <td>13510</td>\n",
       "      <td>2019-06-13</td>\n",
       "      <td>14:10:23</td>\n",
       "      <td>25.3117</td>\n",
       "      <td>35.0855</td>\n",
       "      <td>285.0</td>\n",
       "      <td>316.0</td>\n",
       "      <td>97.0</td>\n",
       "      <td>718.0</td>\n",
       "      <td>17.0</td>\n",
       "    </tr>\n",
       "    <tr>\n",
       "      <th>9</th>\n",
       "      <td>13510</td>\n",
       "      <td>2019-06-13</td>\n",
       "      <td>14:18:35</td>\n",
       "      <td>25.2564</td>\n",
       "      <td>35.1478</td>\n",
       "      <td>348.0</td>\n",
       "      <td>324.0</td>\n",
       "      <td>37.0</td>\n",
       "      <td>70.0</td>\n",
       "      <td>17.0</td>\n",
       "    </tr>\n",
       "  </tbody>\n",
       "</table>\n",
       "</div>"
      ],
      "text/plain": [
       "  vehicle       dates     times  longitude  latitude  altitude  angle  speed   \n",
       "0   13510  2019-06-13  14:12:52    25.2888   35.1171     262.0  323.0   94.0  \\\n",
       "1   13510  2019-06-13  14:12:28    25.2905   35.1116     246.0  353.0   97.0   \n",
       "2   13510  2019-06-13  14:11:35    25.2952   35.0993     217.0  318.0   97.0   \n",
       "3   13510  2019-06-13  14:11:10    25.3010   35.0949     238.0  326.0  109.0   \n",
       "4   13510  2019-06-13  14:10:47    25.3060   35.0900     268.0  315.0  116.0   \n",
       "5   13510  2019-06-13  14:09:53    25.3170   35.0808     272.0  297.0   87.0   \n",
       "6   13510  2019-06-13  14:15:11    25.2724   35.1353     397.0  275.0   61.0   \n",
       "7   13510  2019-06-13  14:13:20    25.2843   35.1222     289.0  351.0   81.0   \n",
       "8   13510  2019-06-13  14:10:23    25.3117   35.0855     285.0  316.0   97.0   \n",
       "9   13510  2019-06-13  14:18:35    25.2564   35.1478     348.0  324.0   37.0   \n",
       "\n",
       "   odometer  satellites  \n",
       "0     638.0        17.0  \n",
       "1     725.0        17.0  \n",
       "2     729.0        17.0  \n",
       "3     710.0        16.0  \n",
       "4     721.0        17.0  \n",
       "5     545.0        17.0  \n",
       "6     576.0        17.0  \n",
       "7     721.0        17.0  \n",
       "8     718.0        17.0  \n",
       "9      70.0        17.0  "
      ]
     },
     "execution_count": 283,
     "metadata": {},
     "output_type": "execute_result"
    }
   ],
   "source": [
    "#Split utcDate to two columns for date and time\n",
    "dates = pd.to_datetime(df['utcDate']).dt.date\n",
    "times = pd.to_datetime(df['utcDate']).dt.time\n",
    "\n",
    "df.insert(1, 'dates', dates)\n",
    "df.insert(2, 'times', times)\n",
    "df.pop('utcDate')\n",
    "df.head(10)"
   ]
  },
  {
   "cell_type": "code",
   "execution_count": 284,
   "id": "5ad41af9",
   "metadata": {},
   "outputs": [
    {
     "name": "stdout",
     "output_type": "stream",
     "text": [
      "   vehicle_id  total_distance_meters\n",
      "1       10187           4.952135e+06\n",
      "2       10188           1.343464e+07\n",
      "3       11860           9.466385e+06\n",
      "4       11861           4.442444e+06\n",
      "5       11862           5.570483e+06\n",
      "6       11863           4.269032e+06\n",
      "7       11865           7.136055e+06\n",
      "8       11867           1.293179e+07\n",
      "9       11868           3.103135e+06\n",
      "10      11869           2.944187e+06\n",
      "11      11870           1.750096e+07\n",
      "12      11871           9.719940e+06\n",
      "13      11872           1.197146e+07\n",
      "14      13510           3.627053e+06\n",
      "15      13865           1.924176e+07\n",
      "16      13866           1.544298e+06\n",
      "17      13867           1.245810e+07\n",
      "18      13975           1.070917e+06\n",
      "19      13976           1.435464e+07\n",
      "20      13977           1.457234e+07\n",
      "21       1682           6.499100e+04\n",
      "22      17070           1.434254e+07\n",
      "23      17071           1.410870e+07\n",
      "24      17072           1.127532e+07\n",
      "25      17073           8.208074e+06\n",
      "26      17074           1.397347e+07\n",
      "27      17075           9.165103e+06\n",
      "28       1889           1.199480e+05\n",
      "29      21932           6.461200e+04\n",
      "30       3483           1.632270e+05\n",
      "31       3484           4.926100e+04\n",
      "32        796           6.231100e+04\n",
      "33        797           8.514900e+04\n",
      "34        798           1.815230e+05\n",
      "35        799           6.695600e+04\n",
      "36        800           1.415600e+05\n",
      "37        801           1.081090e+05\n",
      "38        802           4.227700e+04\n",
      "39        803           6.783300e+04\n",
      "40        804           5.476400e+04\n",
      "41        805           4.108600e+04\n",
      "42        806           1.021950e+05\n",
      "43        812           2.271375e+07\n",
      "44       9705           2.460239e+10\n"
     ]
    }
   ],
   "source": [
    "#Calculating total distance driven for each vehicle\n",
    "m_driven = df.groupby('vehicle').odometer.sum().reset_index()\n",
    "m_driven.drop(index=m_driven.index[0], axis=0, inplace=True)\n",
    "m_driven.rename(columns={\n",
    "    'vehicle': 'vehicle_id',\n",
    "    'odometer': 'total_distance_meters'\n",
    "},inplace=True\n",
    ")\n",
    "\n",
    "print(m_driven)"
   ]
  },
  {
   "cell_type": "code",
   "execution_count": 285,
   "id": "c9e4af7b",
   "metadata": {},
   "outputs": [
    {
     "data": {
      "text/html": [
       "<div>\n",
       "<style scoped>\n",
       "    .dataframe tbody tr th:only-of-type {\n",
       "        vertical-align: middle;\n",
       "    }\n",
       "\n",
       "    .dataframe tbody tr th {\n",
       "        vertical-align: top;\n",
       "    }\n",
       "\n",
       "    .dataframe thead th {\n",
       "        text-align: right;\n",
       "    }\n",
       "</style>\n",
       "<table border=\"1\" class=\"dataframe\">\n",
       "  <thead>\n",
       "    <tr style=\"text-align: right;\">\n",
       "      <th></th>\n",
       "      <th>vehicle_id</th>\n",
       "      <th>total_distance_meters</th>\n",
       "      <th>total_distance_kilometers</th>\n",
       "    </tr>\n",
       "  </thead>\n",
       "  <tbody>\n",
       "    <tr>\n",
       "      <th>1</th>\n",
       "      <td>10187</td>\n",
       "      <td>4952135.0</td>\n",
       "      <td>4952.135</td>\n",
       "    </tr>\n",
       "    <tr>\n",
       "      <th>2</th>\n",
       "      <td>10188</td>\n",
       "      <td>13434641.0</td>\n",
       "      <td>13434.641</td>\n",
       "    </tr>\n",
       "    <tr>\n",
       "      <th>3</th>\n",
       "      <td>11860</td>\n",
       "      <td>9466385.0</td>\n",
       "      <td>9466.385</td>\n",
       "    </tr>\n",
       "    <tr>\n",
       "      <th>4</th>\n",
       "      <td>11861</td>\n",
       "      <td>4442444.0</td>\n",
       "      <td>4442.444</td>\n",
       "    </tr>\n",
       "    <tr>\n",
       "      <th>5</th>\n",
       "      <td>11862</td>\n",
       "      <td>5570483.0</td>\n",
       "      <td>5570.483</td>\n",
       "    </tr>\n",
       "    <tr>\n",
       "      <th>6</th>\n",
       "      <td>11863</td>\n",
       "      <td>4269032.0</td>\n",
       "      <td>4269.032</td>\n",
       "    </tr>\n",
       "    <tr>\n",
       "      <th>7</th>\n",
       "      <td>11865</td>\n",
       "      <td>7136055.0</td>\n",
       "      <td>7136.055</td>\n",
       "    </tr>\n",
       "    <tr>\n",
       "      <th>8</th>\n",
       "      <td>11867</td>\n",
       "      <td>12931789.0</td>\n",
       "      <td>12931.789</td>\n",
       "    </tr>\n",
       "    <tr>\n",
       "      <th>9</th>\n",
       "      <td>11868</td>\n",
       "      <td>3103135.0</td>\n",
       "      <td>3103.135</td>\n",
       "    </tr>\n",
       "    <tr>\n",
       "      <th>10</th>\n",
       "      <td>11869</td>\n",
       "      <td>2944187.0</td>\n",
       "      <td>2944.187</td>\n",
       "    </tr>\n",
       "  </tbody>\n",
       "</table>\n",
       "</div>"
      ],
      "text/plain": [
       "   vehicle_id  total_distance_meters  total_distance_kilometers\n",
       "1       10187              4952135.0                   4952.135\n",
       "2       10188             13434641.0                  13434.641\n",
       "3       11860              9466385.0                   9466.385\n",
       "4       11861              4442444.0                   4442.444\n",
       "5       11862              5570483.0                   5570.483\n",
       "6       11863              4269032.0                   4269.032\n",
       "7       11865              7136055.0                   7136.055\n",
       "8       11867             12931789.0                  12931.789\n",
       "9       11868              3103135.0                   3103.135\n",
       "10      11869              2944187.0                   2944.187"
      ]
     },
     "execution_count": 285,
     "metadata": {},
     "output_type": "execute_result"
    }
   ],
   "source": [
    "#Converting meters to Km and adding corresponding column in dataframe\n",
    "\n",
    "m_driven['total_distance_kilometers'] = [i/1000 for i in m_driven['total_distance_meters']]\n",
    "m_driven.head(10)"
   ]
  },
  {
   "cell_type": "code",
   "execution_count": 286,
   "id": "ab5d3e16",
   "metadata": {},
   "outputs": [
    {
     "data": {
      "text/html": [
       "<div>\n",
       "<style scoped>\n",
       "    .dataframe tbody tr th:only-of-type {\n",
       "        vertical-align: middle;\n",
       "    }\n",
       "\n",
       "    .dataframe tbody tr th {\n",
       "        vertical-align: top;\n",
       "    }\n",
       "\n",
       "    .dataframe thead th {\n",
       "        text-align: right;\n",
       "    }\n",
       "</style>\n",
       "<table border=\"1\" class=\"dataframe\">\n",
       "  <thead>\n",
       "    <tr style=\"text-align: right;\">\n",
       "      <th></th>\n",
       "      <th>vehicle_id</th>\n",
       "      <th>total_distance_meters</th>\n",
       "      <th>total_distance_kilometers</th>\n",
       "      <th>average_speed</th>\n",
       "    </tr>\n",
       "  </thead>\n",
       "  <tbody>\n",
       "    <tr>\n",
       "      <th>1</th>\n",
       "      <td>10187</td>\n",
       "      <td>4952135.0</td>\n",
       "      <td>4952.135</td>\n",
       "      <td>37.351043</td>\n",
       "    </tr>\n",
       "    <tr>\n",
       "      <th>2</th>\n",
       "      <td>10188</td>\n",
       "      <td>13434641.0</td>\n",
       "      <td>13434.641</td>\n",
       "      <td>71.496871</td>\n",
       "    </tr>\n",
       "    <tr>\n",
       "      <th>3</th>\n",
       "      <td>11860</td>\n",
       "      <td>9466385.0</td>\n",
       "      <td>9466.385</td>\n",
       "      <td>53.484559</td>\n",
       "    </tr>\n",
       "    <tr>\n",
       "      <th>4</th>\n",
       "      <td>11861</td>\n",
       "      <td>4442444.0</td>\n",
       "      <td>4442.444</td>\n",
       "      <td>20.594524</td>\n",
       "    </tr>\n",
       "    <tr>\n",
       "      <th>5</th>\n",
       "      <td>11862</td>\n",
       "      <td>5570483.0</td>\n",
       "      <td>5570.483</td>\n",
       "      <td>33.309401</td>\n",
       "    </tr>\n",
       "    <tr>\n",
       "      <th>6</th>\n",
       "      <td>11863</td>\n",
       "      <td>4269032.0</td>\n",
       "      <td>4269.032</td>\n",
       "      <td>21.594573</td>\n",
       "    </tr>\n",
       "    <tr>\n",
       "      <th>7</th>\n",
       "      <td>11865</td>\n",
       "      <td>7136055.0</td>\n",
       "      <td>7136.055</td>\n",
       "      <td>32.283347</td>\n",
       "    </tr>\n",
       "    <tr>\n",
       "      <th>8</th>\n",
       "      <td>11867</td>\n",
       "      <td>12931789.0</td>\n",
       "      <td>12931.789</td>\n",
       "      <td>54.998588</td>\n",
       "    </tr>\n",
       "    <tr>\n",
       "      <th>9</th>\n",
       "      <td>11868</td>\n",
       "      <td>3103135.0</td>\n",
       "      <td>3103.135</td>\n",
       "      <td>24.088372</td>\n",
       "    </tr>\n",
       "    <tr>\n",
       "      <th>10</th>\n",
       "      <td>11869</td>\n",
       "      <td>2944187.0</td>\n",
       "      <td>2944.187</td>\n",
       "      <td>50.744741</td>\n",
       "    </tr>\n",
       "  </tbody>\n",
       "</table>\n",
       "</div>"
      ],
      "text/plain": [
       "   vehicle_id  total_distance_meters  total_distance_kilometers  average_speed\n",
       "1       10187              4952135.0                   4952.135      37.351043\n",
       "2       10188             13434641.0                  13434.641      71.496871\n",
       "3       11860              9466385.0                   9466.385      53.484559\n",
       "4       11861              4442444.0                   4442.444      20.594524\n",
       "5       11862              5570483.0                   5570.483      33.309401\n",
       "6       11863              4269032.0                   4269.032      21.594573\n",
       "7       11865              7136055.0                   7136.055      32.283347\n",
       "8       11867             12931789.0                  12931.789      54.998588\n",
       "9       11868              3103135.0                   3103.135      24.088372\n",
       "10      11869              2944187.0                   2944.187      50.744741"
      ]
     },
     "execution_count": 286,
     "metadata": {},
     "output_type": "execute_result"
    }
   ],
   "source": [
    "#Sorting total_distance by vehicles that drive the most\n",
    "#m_driven_sorted = m_driven.sort_values(by='total_distance_meters', ascending=False)\n",
    "avg_speed = df.groupby('vehicle').speed.mean().reset_index()\n",
    "avg_speed.drop(index=avg_speed.index[0], axis=0, inplace=True)\n",
    "m_driven_and_avg_speed = m_driven\n",
    "m_driven_and_avg_speed['average_speed'] = avg_speed['speed']\n",
    "m_driven_and_avg_speed.head(10)\n",
    "#avg_speed.head(10)"
   ]
  },
  {
   "cell_type": "code",
   "execution_count": 287,
   "id": "1fd8b3c7",
   "metadata": {},
   "outputs": [
    {
     "name": "stdout",
     "output_type": "stream",
     "text": [
      "vehicle_id                        10188\n",
      "total_distance_meters        13434641.0\n",
      "total_distance_kilometers     13434.641\n",
      "average_speed                 71.496871\n",
      "Name: 2, dtype: object\n"
     ]
    }
   ],
   "source": [
    "#Vehicle with the highest average speed\n",
    "print(m_driven_and_avg_speed.loc[m_driven_and_avg_speed['average_speed'].idxmax()])"
   ]
  },
  {
   "cell_type": "code",
   "execution_count": 288,
   "id": "9a4e8fbd",
   "metadata": {},
   "outputs": [
    {
     "name": "stdout",
     "output_type": "stream",
     "text": [
      "vehicle_id                            9705\n",
      "total_distance_meters        24602390100.0\n",
      "total_distance_kilometers       24602390.1\n",
      "average_speed                    26.142857\n",
      "Name: 44, dtype: object\n"
     ]
    }
   ],
   "source": [
    "#Vehicle with the highest distance traveled\n",
    "print(m_driven_and_avg_speed.loc[m_driven_and_avg_speed['total_distance_meters'].idxmax()])"
   ]
  },
  {
   "cell_type": "code",
   "execution_count": 289,
   "id": "644ab092",
   "metadata": {},
   "outputs": [],
   "source": [
    "#Use the Geopandas module to plot the geometries\n",
    "#Create the model to price premium"
   ]
  },
  {
   "cell_type": "code",
   "execution_count": 233,
   "id": "c84032fa",
   "metadata": {},
   "outputs": [
    {
     "data": {
      "image/png": "[encoded data removed]",
      "text/plain": [
       "<Figure size 1000x1000 with 1 Axes>"
      ]
     },
     "metadata": {},
     "output_type": "display_data"
    }
   ],
   "source": [
    "import geopandas as gpd\n",
    "import matplotlib.pyplot as plt\n",
    "\n",
    "# Assuming you already have the 'gf' GeoDataFrame\n",
    "gf.plot(figsize=(10, 10))\n",
    "plt.title('Vehicle Geometries')\n",
    "plt.show()"
   ]
  },
  {
   "cell_type": "code",
   "execution_count": 234,
   "id": "66c12cc0",
   "metadata": {},
   "outputs": [
    {
     "data": {
      "text/html": [
       "<div>\n",
       "<style scoped>\n",
       "    .dataframe tbody tr th:only-of-type {\n",
       "        vertical-align: middle;\n",
       "    }\n",
       "\n",
       "    .dataframe tbody tr th {\n",
       "        vertical-align: top;\n",
       "    }\n",
       "\n",
       "    .dataframe thead th {\n",
       "        text-align: right;\n",
       "    }\n",
       "</style>\n",
       "<table border=\"1\" class=\"dataframe\">\n",
       "  <thead>\n",
       "    <tr style=\"text-align: right;\">\n",
       "      <th></th>\n",
       "      <th>vehicle_id</th>\n",
       "      <th>total_distance_meters</th>\n",
       "      <th>total_distance_kilometers</th>\n",
       "      <th>average_speed</th>\n",
       "      <th>monthly_premium</th>\n",
       "    </tr>\n",
       "  </thead>\n",
       "  <tbody>\n",
       "    <tr>\n",
       "      <th>1</th>\n",
       "      <td>10187</td>\n",
       "      <td>4952135.0</td>\n",
       "      <td>4952.135</td>\n",
       "      <td>37.351043</td>\n",
       "      <td>95</td>\n",
       "    </tr>\n",
       "    <tr>\n",
       "      <th>2</th>\n",
       "      <td>10188</td>\n",
       "      <td>13434641.0</td>\n",
       "      <td>13434.641</td>\n",
       "      <td>71.496871</td>\n",
       "      <td>105</td>\n",
       "    </tr>\n",
       "    <tr>\n",
       "      <th>3</th>\n",
       "      <td>11860</td>\n",
       "      <td>9466385.0</td>\n",
       "      <td>9466.385</td>\n",
       "      <td>53.484559</td>\n",
       "      <td>105</td>\n",
       "    </tr>\n",
       "    <tr>\n",
       "      <th>4</th>\n",
       "      <td>11861</td>\n",
       "      <td>4442444.0</td>\n",
       "      <td>4442.444</td>\n",
       "      <td>20.594524</td>\n",
       "      <td>95</td>\n",
       "    </tr>\n",
       "    <tr>\n",
       "      <th>5</th>\n",
       "      <td>11862</td>\n",
       "      <td>5570483.0</td>\n",
       "      <td>5570.483</td>\n",
       "      <td>33.309401</td>\n",
       "      <td>95</td>\n",
       "    </tr>\n",
       "    <tr>\n",
       "      <th>6</th>\n",
       "      <td>11863</td>\n",
       "      <td>4269032.0</td>\n",
       "      <td>4269.032</td>\n",
       "      <td>21.594573</td>\n",
       "      <td>95</td>\n",
       "    </tr>\n",
       "    <tr>\n",
       "      <th>7</th>\n",
       "      <td>11865</td>\n",
       "      <td>7136055.0</td>\n",
       "      <td>7136.055</td>\n",
       "      <td>32.283347</td>\n",
       "      <td>95</td>\n",
       "    </tr>\n",
       "    <tr>\n",
       "      <th>8</th>\n",
       "      <td>11867</td>\n",
       "      <td>12931789.0</td>\n",
       "      <td>12931.789</td>\n",
       "      <td>54.998588</td>\n",
       "      <td>105</td>\n",
       "    </tr>\n",
       "    <tr>\n",
       "      <th>9</th>\n",
       "      <td>11868</td>\n",
       "      <td>3103135.0</td>\n",
       "      <td>3103.135</td>\n",
       "      <td>24.088372</td>\n",
       "      <td>95</td>\n",
       "    </tr>\n",
       "    <tr>\n",
       "      <th>10</th>\n",
       "      <td>11869</td>\n",
       "      <td>2944187.0</td>\n",
       "      <td>2944.187</td>\n",
       "      <td>50.744741</td>\n",
       "      <td>105</td>\n",
       "    </tr>\n",
       "  </tbody>\n",
       "</table>\n",
       "</div>"
      ],
      "text/plain": [
       "   vehicle_id  total_distance_meters  total_distance_kilometers   \n",
       "1       10187              4952135.0                   4952.135  \\\n",
       "2       10188             13434641.0                  13434.641   \n",
       "3       11860              9466385.0                   9466.385   \n",
       "4       11861              4442444.0                   4442.444   \n",
       "5       11862              5570483.0                   5570.483   \n",
       "6       11863              4269032.0                   4269.032   \n",
       "7       11865              7136055.0                   7136.055   \n",
       "8       11867             12931789.0                  12931.789   \n",
       "9       11868              3103135.0                   3103.135   \n",
       "10      11869              2944187.0                   2944.187   \n",
       "\n",
       "    average_speed  monthly_premium  \n",
       "1       37.351043               95  \n",
       "2       71.496871              105  \n",
       "3       53.484559              105  \n",
       "4       20.594524               95  \n",
       "5       33.309401               95  \n",
       "6       21.594573               95  \n",
       "7       32.283347               95  \n",
       "8       54.998588              105  \n",
       "9       24.088372               95  \n",
       "10      50.744741              105  "
      ]
     },
     "execution_count": 234,
     "metadata": {},
     "output_type": "execute_result"
    }
   ],
   "source": [
    "m_driven_and_avg_speed['monthly_premium'] = premium(m_driven_and_avg_speed['total_distance_kilometers'], m_driven_and_avg_speed['average_speed'])\n",
    "m_driven_and_avg_speed.head(10)"
   ]
  },
  {
   "cell_type": "code",
   "execution_count": 235,
   "id": "726b17a9",
   "metadata": {},
   "outputs": [
    {
     "data": {
      "text/html": [
       "<div>\n",
       "<style scoped>\n",
       "    .dataframe tbody tr th:only-of-type {\n",
       "        vertical-align: middle;\n",
       "    }\n",
       "\n",
       "    .dataframe tbody tr th {\n",
       "        vertical-align: top;\n",
       "    }\n",
       "\n",
       "    .dataframe thead th {\n",
       "        text-align: right;\n",
       "    }\n",
       "</style>\n",
       "<table border=\"1\" class=\"dataframe\">\n",
       "  <thead>\n",
       "    <tr style=\"text-align: right;\">\n",
       "      <th></th>\n",
       "      <th>vehicle_id</th>\n",
       "      <th>total_distance_meters</th>\n",
       "      <th>total_distance_kilometers</th>\n",
       "      <th>average_speed</th>\n",
       "      <th>monthly_premium</th>\n",
       "      <th>6_month_premium</th>\n",
       "    </tr>\n",
       "  </thead>\n",
       "  <tbody>\n",
       "    <tr>\n",
       "      <th>1</th>\n",
       "      <td>10187</td>\n",
       "      <td>4952135.0</td>\n",
       "      <td>4952.135</td>\n",
       "      <td>37.351043</td>\n",
       "      <td>95</td>\n",
       "      <td>570</td>\n",
       "    </tr>\n",
       "    <tr>\n",
       "      <th>2</th>\n",
       "      <td>10188</td>\n",
       "      <td>13434641.0</td>\n",
       "      <td>13434.641</td>\n",
       "      <td>71.496871</td>\n",
       "      <td>105</td>\n",
       "      <td>630</td>\n",
       "    </tr>\n",
       "    <tr>\n",
       "      <th>3</th>\n",
       "      <td>11860</td>\n",
       "      <td>9466385.0</td>\n",
       "      <td>9466.385</td>\n",
       "      <td>53.484559</td>\n",
       "      <td>105</td>\n",
       "      <td>630</td>\n",
       "    </tr>\n",
       "    <tr>\n",
       "      <th>4</th>\n",
       "      <td>11861</td>\n",
       "      <td>4442444.0</td>\n",
       "      <td>4442.444</td>\n",
       "      <td>20.594524</td>\n",
       "      <td>95</td>\n",
       "      <td>570</td>\n",
       "    </tr>\n",
       "    <tr>\n",
       "      <th>5</th>\n",
       "      <td>11862</td>\n",
       "      <td>5570483.0</td>\n",
       "      <td>5570.483</td>\n",
       "      <td>33.309401</td>\n",
       "      <td>95</td>\n",
       "      <td>570</td>\n",
       "    </tr>\n",
       "    <tr>\n",
       "      <th>6</th>\n",
       "      <td>11863</td>\n",
       "      <td>4269032.0</td>\n",
       "      <td>4269.032</td>\n",
       "      <td>21.594573</td>\n",
       "      <td>95</td>\n",
       "      <td>570</td>\n",
       "    </tr>\n",
       "    <tr>\n",
       "      <th>7</th>\n",
       "      <td>11865</td>\n",
       "      <td>7136055.0</td>\n",
       "      <td>7136.055</td>\n",
       "      <td>32.283347</td>\n",
       "      <td>95</td>\n",
       "      <td>570</td>\n",
       "    </tr>\n",
       "    <tr>\n",
       "      <th>8</th>\n",
       "      <td>11867</td>\n",
       "      <td>12931789.0</td>\n",
       "      <td>12931.789</td>\n",
       "      <td>54.998588</td>\n",
       "      <td>105</td>\n",
       "      <td>630</td>\n",
       "    </tr>\n",
       "    <tr>\n",
       "      <th>9</th>\n",
       "      <td>11868</td>\n",
       "      <td>3103135.0</td>\n",
       "      <td>3103.135</td>\n",
       "      <td>24.088372</td>\n",
       "      <td>95</td>\n",
       "      <td>570</td>\n",
       "    </tr>\n",
       "    <tr>\n",
       "      <th>10</th>\n",
       "      <td>11869</td>\n",
       "      <td>2944187.0</td>\n",
       "      <td>2944.187</td>\n",
       "      <td>50.744741</td>\n",
       "      <td>105</td>\n",
       "      <td>630</td>\n",
       "    </tr>\n",
       "  </tbody>\n",
       "</table>\n",
       "</div>"
      ],
      "text/plain": [
       "   vehicle_id  total_distance_meters  total_distance_kilometers   \n",
       "1       10187              4952135.0                   4952.135  \\\n",
       "2       10188             13434641.0                  13434.641   \n",
       "3       11860              9466385.0                   9466.385   \n",
       "4       11861              4442444.0                   4442.444   \n",
       "5       11862              5570483.0                   5570.483   \n",
       "6       11863              4269032.0                   4269.032   \n",
       "7       11865              7136055.0                   7136.055   \n",
       "8       11867             12931789.0                  12931.789   \n",
       "9       11868              3103135.0                   3103.135   \n",
       "10      11869              2944187.0                   2944.187   \n",
       "\n",
       "    average_speed  monthly_premium  6_month_premium  \n",
       "1       37.351043               95              570  \n",
       "2       71.496871              105              630  \n",
       "3       53.484559              105              630  \n",
       "4       20.594524               95              570  \n",
       "5       33.309401               95              570  \n",
       "6       21.594573               95              570  \n",
       "7       32.283347               95              570  \n",
       "8       54.998588              105              630  \n",
       "9       24.088372               95              570  \n",
       "10      50.744741              105              630  "
      ]
     },
     "execution_count": 235,
     "metadata": {},
     "output_type": "execute_result"
    }
   ],
   "source": [
    "m_driven_and_avg_speed['6_month_premium'] = [i * 6 for i in m_driven_and_avg_speed['monthly_premium']]\n",
    "m_driven_and_avg_speed.head(10)"
   ]
  },
  {
   "cell_type": "markdown",
   "id": "eee1b7f0",
   "metadata": {},
   "source": [
    "To create a model to price premium, we need to create a model that prices the premium. We will use the target variable and select the features that will be used to help predict the premium value.  Do do this we use scikit-learn to build the regresson model as seen in the code below and we need to do a few things:\n",
    "1. Create and train a linear regression model.\n",
    "2. Make predictions.\n",
    "3. Evaluate the Model.\n",
    "4. Use the trained model to predict premium for new data points"
   ]
  },
  {
   "cell_type": "markdown",
   "id": "728c9e26",
   "metadata": {},
   "source": [
    "Model 1:"
   ]
  },
  {
   "cell_type": "code",
   "execution_count": 236,
   "id": "fd58e317",
   "metadata": {},
   "outputs": [],
   "source": [
    "# Assuming you have selected the features and target variable\n",
    "features = ['total_distance_kilometers', 'average_speed']  # Adjust features as needed\n",
    "target = 'monthly_premium'  # Choose the target variable you want to predict"
   ]
  },
  {
   "cell_type": "code",
   "execution_count": 237,
   "id": "ab945b09",
   "metadata": {},
   "outputs": [],
   "source": [
    "# Split the data into training and testing sets\n",
    "X = m_driven_and_avg_speed[features]\n",
    "y = m_driven_and_avg_speed[target]\n",
    "X_train, X_test, y_train, y_test = train_test_split(X, y, test_size=0.2, random_state=42)"
   ]
  },
  {
   "cell_type": "code",
   "execution_count": 238,
   "id": "9ac24681",
   "metadata": {},
   "outputs": [
    {
     "data": {
      "text/html": [
       "<style>#sk-container-id-4 {color: black;background-color: white;}#sk-container-id-4 pre{padding: 0;}#sk-container-id-4 div.sk-toggleable {background-color: white;}#sk-container-id-4 label.sk-toggleable__label {cursor: pointer;display: block;width: 100%;margin-bottom: 0;padding: 0.3em;box-sizing: border-box;text-align: center;}#sk-container-id-4 label.sk-toggleable__label-arrow:before {content: \"▸\";float: left;margin-right: 0.25em;color: #696969;}#sk-container-id-4 label.sk-toggleable__label-arrow:hover:before {color: black;}#sk-container-id-4 div.sk-estimator:hover label.sk-toggleable__label-arrow:before {color: black;}#sk-container-id-4 div.sk-toggleable__content {max-height: 0;max-width: 0;overflow: hidden;text-align: left;background-color: #f0f8ff;}#sk-container-id-4 div.sk-toggleable__content pre {margin: 0.2em;color: black;border-radius: 0.25em;background-color: #f0f8ff;}#sk-container-id-4 input.sk-toggleable__control:checked~div.sk-toggleable__content {max-height: 200px;max-width: 100%;overflow: auto;}#sk-container-id-4 input.sk-toggleable__control:checked~label.sk-toggleable__label-arrow:before {content: \"▾\";}#sk-container-id-4 div.sk-estimator input.sk-toggleable__control:checked~label.sk-toggleable__label {background-color: #d4ebff;}#sk-container-id-4 div.sk-label input.sk-toggleable__control:checked~label.sk-toggleable__label {background-color: #d4ebff;}#sk-container-id-4 input.sk-hidden--visually {border: 0;clip: rect(1px 1px 1px 1px);clip: rect(1px, 1px, 1px, 1px);height: 1px;margin: -1px;overflow: hidden;padding: 0;position: absolute;width: 1px;}#sk-container-id-4 div.sk-estimator {font-family: monospace;background-color: #f0f8ff;border: 1px dotted black;border-radius: 0.25em;box-sizing: border-box;margin-bottom: 0.5em;}#sk-container-id-4 div.sk-estimator:hover {background-color: #d4ebff;}#sk-container-id-4 div.sk-parallel-item::after {content: \"\";width: 100%;border-bottom: 1px solid gray;flex-grow: 1;}#sk-container-id-4 div.sk-label:hover label.sk-toggleable__label {background-color: #d4ebff;}#sk-container-id-4 div.sk-serial::before {content: \"\";position: absolute;border-left: 1px solid gray;box-sizing: border-box;top: 0;bottom: 0;left: 50%;z-index: 0;}#sk-container-id-4 div.sk-serial {display: flex;flex-direction: column;align-items: center;background-color: white;padding-right: 0.2em;padding-left: 0.2em;position: relative;}#sk-container-id-4 div.sk-item {position: relative;z-index: 1;}#sk-container-id-4 div.sk-parallel {display: flex;align-items: stretch;justify-content: center;background-color: white;position: relative;}#sk-container-id-4 div.sk-item::before, #sk-container-id-4 div.sk-parallel-item::before {content: \"\";position: absolute;border-left: 1px solid gray;box-sizing: border-box;top: 0;bottom: 0;left: 50%;z-index: -1;}#sk-container-id-4 div.sk-parallel-item {display: flex;flex-direction: column;z-index: 1;position: relative;background-color: white;}#sk-container-id-4 div.sk-parallel-item:first-child::after {align-self: flex-end;width: 50%;}#sk-container-id-4 div.sk-parallel-item:last-child::after {align-self: flex-start;width: 50%;}#sk-container-id-4 div.sk-parallel-item:only-child::after {width: 0;}#sk-container-id-4 div.sk-dashed-wrapped {border: 1px dashed gray;margin: 0 0.4em 0.5em 0.4em;box-sizing: border-box;padding-bottom: 0.4em;background-color: white;}#sk-container-id-4 div.sk-label label {font-family: monospace;font-weight: bold;display: inline-block;line-height: 1.2em;}#sk-container-id-4 div.sk-label-container {text-align: center;}#sk-container-id-4 div.sk-container {/* jupyter's `normalize.less` sets `[hidden] { display: none; }` but bootstrap.min.css set `[hidden] { display: none !important; }` so we also need the `!important` here to be able to override the default hidden behavior on the sphinx rendered scikit-learn.org. See: https://github.com/scikit-learn/scikit-learn/issues/21755 */display: inline-block !important;position: relative;}#sk-container-id-4 div.sk-text-repr-fallback {display: none;}</style><div id=\"sk-container-id-4\" class=\"sk-top-container\"><div class=\"sk-text-repr-fallback\"><pre>LinearRegression()</pre><b>In a Jupyter environment, please rerun this cell to show the HTML representation or trust the notebook. <br />On GitHub, the HTML representation is unable to render, please try loading this page with nbviewer.org.</b></div><div class=\"sk-container\" hidden><div class=\"sk-item\"><div class=\"sk-estimator sk-toggleable\"><input class=\"sk-toggleable__control sk-hidden--visually\" id=\"sk-estimator-id-4\" type=\"checkbox\" checked><label for=\"sk-estimator-id-4\" class=\"sk-toggleable__label sk-toggleable__label-arrow\">LinearRegression</label><div class=\"sk-toggleable__content\"><pre>LinearRegression()</pre></div></div></div></div></div>"
      ],
      "text/plain": [
       "LinearRegression()"
      ]
     },
     "execution_count": 238,
     "metadata": {},
     "output_type": "execute_result"
    }
   ],
   "source": [
    "# Create and train a linear regression model\n",
    "model = LinearRegression()\n",
    "model.fit(X_train, y_train)"
   ]
  },
  {
   "cell_type": "code",
   "execution_count": 239,
   "id": "9d9a5015",
   "metadata": {},
   "outputs": [],
   "source": [
    "# Make predictions\n",
    "y_pred = model.predict(X_test)"
   ]
  },
  {
   "cell_type": "markdown",
   "id": "65da2102",
   "metadata": {},
   "source": [
    "Mean Squared Error (MSE) measures the average squared difference between the predicted and actual values. Lower MSE indicates a better model fit."
   ]
  },
  {
   "cell_type": "code",
   "execution_count": 240,
   "id": "a36c162b",
   "metadata": {},
   "outputs": [
    {
     "name": "stdout",
     "output_type": "stream",
     "text": [
      "Mean Squared Error: 6.126633952460653\n"
     ]
    }
   ],
   "source": [
    "# Evaluate the model \n",
    "mse = mean_squared_error(y_test, y_pred)\n",
    "print(f'Mean Squared Error: {mse}')"
   ]
  },
  {
   "cell_type": "markdown",
   "id": "980132e0",
   "metadata": {},
   "source": [
    "An R-squared (R²) score of 0.7243014721392707, which is approximately 0.72, indicates the proportion of the variance in the dependent variable (the target variable) that can be explained by the independent variables (features) in the regression model. Additionally, the following can be said: \n",
    "\n",
    "1. When looking at Goodness of Fit, R-squared value is between 0 and 1, where higher values are better. In this case, an R-squared value of approximately 0.72 suggests that the model explains approximately 72.43% of the variance in the target variable. \n",
    "\n",
    "2. When looking at Model Accuracy, a higher R-squared value suggests that the model provides a good fit to the data. It means that the features included in the model collectively have a strong explanatory power regarding the variation in the target variable.\n",
    "\n",
    "In summary, an R-squared value of approximately 0.72 indicates a model that explains a substantial portion of the variance in the target variable, suggesting a good fit to the data. However, as with any statistical metric, its interpretation should be considered in the context of the specific problem and domain.\n",
    "\n",
    "\n",
    "\n",
    "\n",
    "\n",
    "\n"
   ]
  },
  {
   "cell_type": "code",
   "execution_count": 241,
   "id": "636506fc",
   "metadata": {},
   "outputs": [
    {
     "name": "stdout",
     "output_type": "stream",
     "text": [
      "R-squared (R²) Score: 0.7243014721392707\n"
     ]
    }
   ],
   "source": [
    "\n",
    "r_squared = r2_score(y_test, y_pred)\n",
    "print(f'R-squared (R²) Score: {r_squared}')\n"
   ]
  },
  {
   "cell_type": "markdown",
   "id": "4641784d",
   "metadata": {},
   "source": [
    "Below we look at adjusted R-Squared. Adjusted R-squared is a modified version of R-squared that takes into account the number of predictors in the model. It penalizes the inclusion of irrelevant features.\n",
    "\n"
   ]
  },
  {
   "cell_type": "code",
   "execution_count": 242,
   "id": "0f9962a4",
   "metadata": {},
   "outputs": [
    {
     "name": "stdout",
     "output_type": "stream",
     "text": [
      "Adjusted R-squared: 0.6324019628523609\n"
     ]
    }
   ],
   "source": [
    "from sklearn.metrics import r2_score\n",
    "\n",
    "# Assuming you have already calculated 'y_test' and 'y_pred'\n",
    "r_squared = r2_score(y_test, y_pred)\n",
    "\n",
    "# Calculate adjusted R-squared\n",
    "n = len(y_test)  # Number of samples\n",
    "p = len(features)  # Number of features\n",
    "adjusted_r_squared = 1 - ((1 - r_squared) * (n - 1) / (n - p - 1))\n",
    "print(f'Adjusted R-squared: {adjusted_r_squared}')"
   ]
  },
  {
   "cell_type": "markdown",
   "id": "f3dd29de",
   "metadata": {},
   "source": [
    "An adjusted R-squared value of 0.6324019628523609 indicates the proportion of the variance in the dependent variable (the target variable) that can be explained by the independent variables (features) in the regression model, after adjusting for the number of predictors in the model. When it comes to goodness of fit, model complexity, model utility, comparisons, and residual analysis, the following analysis can be applied. \n",
    "\n",
    "Goodness of Fit: The adjusted R-squared value is between 0 and 1, where higher values are better. 0.6324 suggests that the model explains approximately 63.24% of the variance in the target variable. This indicates a moderate level of explanation, which is generally considered acceptable for many practical purposes.\n",
    "\n",
    "Model Complexity: The adjusted R-squared value takes into account the number of predictors (features) in the model. A higher number of predictors tends to increase the regular R-squared value, but it may not necessarily lead to a better model. The adjusted R-squared penalizes the inclusion of irrelevant or redundant features, providing a more realistic assessment of model fit.\n",
    "\n",
    "Model Utility: The interpretation of the adjusted R-squared value depends on the context and the specific problem that is being addressed. Whether a value of 0.6324 is good or not depends on the domain and the expectations of your application. In some cases, this level of explanation might be considered excellent, while in others, it might be deemed insufficient.\n",
    "\n",
    "Comparisons: To assess the quality of the model further, we can compare the adjusted R-squared value with other models or variations of your model. A higher adjusted R-squared value suggests a better model fit, but it should be balanced with model simplicity and interpretability.\n",
    "\n",
    "Residual Analysis: While the adjusted R-squared provides valuable information, it's essential to complement this evaluation with other diagnostic tools, such as residual analysis, to ensure the model's assumptions are met and that there are no systematic patterns or issues with the model's predictions.\n"
   ]
  },
  {
   "cell_type": "code",
   "execution_count": 269,
   "id": "e7ec40d9",
   "metadata": {},
   "outputs": [
    {
     "name": "stdout",
     "output_type": "stream",
     "text": [
      "Predicted Monthly Premium: 116.09195336904374\n"
     ]
    }
   ],
   "source": [
    "# Here the trained model is used to predict premium for new data points\n",
    "new_data = pd.DataFrame({'total_distance_kilometers': [1000], 'average_speed': [80]})\n",
    "predicted_monthly_premium = model.predict(new_data)\n",
    "print(f'Predicted Monthly Premium: {predicted_monthly_premium[0]}')\n"
   ]
  },
  {
   "cell_type": "code",
   "execution_count": 252,
   "id": "e685a308",
   "metadata": {},
   "outputs": [
    {
     "name": "stdout",
     "output_type": "stream",
     "text": [
      "Linear Regression RMSE: 2.475203820387455\n"
     ]
    }
   ],
   "source": [
    "import numpy as np\n",
    "from sklearn.metrics import mean_squared_error\n",
    "\n",
    "# Calculate RMSE for Linear Regression\n",
    "rmse = np.sqrt(mean_squared_error(y_test, y_pred))\n",
    "\n",
    "# Print RMSE for both models\n",
    "print(f'Linear Regression RMSE: {rmse}')\n",
    "\n"
   ]
  },
  {
   "cell_type": "markdown",
   "id": "6cdebd28",
   "metadata": {},
   "source": [
    "Model 2:"
   ]
  },
  {
   "cell_type": "code",
   "execution_count": 253,
   "id": "2d1957ac",
   "metadata": {},
   "outputs": [
    {
     "data": {
      "text/html": [
       "<style>#sk-container-id-6 {color: black;background-color: white;}#sk-container-id-6 pre{padding: 0;}#sk-container-id-6 div.sk-toggleable {background-color: white;}#sk-container-id-6 label.sk-toggleable__label {cursor: pointer;display: block;width: 100%;margin-bottom: 0;padding: 0.3em;box-sizing: border-box;text-align: center;}#sk-container-id-6 label.sk-toggleable__label-arrow:before {content: \"▸\";float: left;margin-right: 0.25em;color: #696969;}#sk-container-id-6 label.sk-toggleable__label-arrow:hover:before {color: black;}#sk-container-id-6 div.sk-estimator:hover label.sk-toggleable__label-arrow:before {color: black;}#sk-container-id-6 div.sk-toggleable__content {max-height: 0;max-width: 0;overflow: hidden;text-align: left;background-color: #f0f8ff;}#sk-container-id-6 div.sk-toggleable__content pre {margin: 0.2em;color: black;border-radius: 0.25em;background-color: #f0f8ff;}#sk-container-id-6 input.sk-toggleable__control:checked~div.sk-toggleable__content {max-height: 200px;max-width: 100%;overflow: auto;}#sk-container-id-6 input.sk-toggleable__control:checked~label.sk-toggleable__label-arrow:before {content: \"▾\";}#sk-container-id-6 div.sk-estimator input.sk-toggleable__control:checked~label.sk-toggleable__label {background-color: #d4ebff;}#sk-container-id-6 div.sk-label input.sk-toggleable__control:checked~label.sk-toggleable__label {background-color: #d4ebff;}#sk-container-id-6 input.sk-hidden--visually {border: 0;clip: rect(1px 1px 1px 1px);clip: rect(1px, 1px, 1px, 1px);height: 1px;margin: -1px;overflow: hidden;padding: 0;position: absolute;width: 1px;}#sk-container-id-6 div.sk-estimator {font-family: monospace;background-color: #f0f8ff;border: 1px dotted black;border-radius: 0.25em;box-sizing: border-box;margin-bottom: 0.5em;}#sk-container-id-6 div.sk-estimator:hover {background-color: #d4ebff;}#sk-container-id-6 div.sk-parallel-item::after {content: \"\";width: 100%;border-bottom: 1px solid gray;flex-grow: 1;}#sk-container-id-6 div.sk-label:hover label.sk-toggleable__label {background-color: #d4ebff;}#sk-container-id-6 div.sk-serial::before {content: \"\";position: absolute;border-left: 1px solid gray;box-sizing: border-box;top: 0;bottom: 0;left: 50%;z-index: 0;}#sk-container-id-6 div.sk-serial {display: flex;flex-direction: column;align-items: center;background-color: white;padding-right: 0.2em;padding-left: 0.2em;position: relative;}#sk-container-id-6 div.sk-item {position: relative;z-index: 1;}#sk-container-id-6 div.sk-parallel {display: flex;align-items: stretch;justify-content: center;background-color: white;position: relative;}#sk-container-id-6 div.sk-item::before, #sk-container-id-6 div.sk-parallel-item::before {content: \"\";position: absolute;border-left: 1px solid gray;box-sizing: border-box;top: 0;bottom: 0;left: 50%;z-index: -1;}#sk-container-id-6 div.sk-parallel-item {display: flex;flex-direction: column;z-index: 1;position: relative;background-color: white;}#sk-container-id-6 div.sk-parallel-item:first-child::after {align-self: flex-end;width: 50%;}#sk-container-id-6 div.sk-parallel-item:last-child::after {align-self: flex-start;width: 50%;}#sk-container-id-6 div.sk-parallel-item:only-child::after {width: 0;}#sk-container-id-6 div.sk-dashed-wrapped {border: 1px dashed gray;margin: 0 0.4em 0.5em 0.4em;box-sizing: border-box;padding-bottom: 0.4em;background-color: white;}#sk-container-id-6 div.sk-label label {font-family: monospace;font-weight: bold;display: inline-block;line-height: 1.2em;}#sk-container-id-6 div.sk-label-container {text-align: center;}#sk-container-id-6 div.sk-container {/* jupyter's `normalize.less` sets `[hidden] { display: none; }` but bootstrap.min.css set `[hidden] { display: none !important; }` so we also need the `!important` here to be able to override the default hidden behavior on the sphinx rendered scikit-learn.org. See: https://github.com/scikit-learn/scikit-learn/issues/21755 */display: inline-block !important;position: relative;}#sk-container-id-6 div.sk-text-repr-fallback {display: none;}</style><div id=\"sk-container-id-6\" class=\"sk-top-container\"><div class=\"sk-text-repr-fallback\"><pre>DecisionTreeRegressor(random_state=42)</pre><b>In a Jupyter environment, please rerun this cell to show the HTML representation or trust the notebook. <br />On GitHub, the HTML representation is unable to render, please try loading this page with nbviewer.org.</b></div><div class=\"sk-container\" hidden><div class=\"sk-item\"><div class=\"sk-estimator sk-toggleable\"><input class=\"sk-toggleable__control sk-hidden--visually\" id=\"sk-estimator-id-6\" type=\"checkbox\" checked><label for=\"sk-estimator-id-6\" class=\"sk-toggleable__label sk-toggleable__label-arrow\">DecisionTreeRegressor</label><div class=\"sk-toggleable__content\"><pre>DecisionTreeRegressor(random_state=42)</pre></div></div></div></div></div>"
      ],
      "text/plain": [
       "DecisionTreeRegressor(random_state=42)"
      ]
     },
     "execution_count": 253,
     "metadata": {},
     "output_type": "execute_result"
    }
   ],
   "source": [
    "from sklearn.tree import DecisionTreeRegressor\n",
    "from sklearn.metrics import r2_score, mean_squared_error, mean_absolute_error\n",
    "\n",
    "# Here is model 2. The code below creates and trains the decision Tree Regressor model\n",
    "decision_tree_model = DecisionTreeRegressor(random_state=42)\n",
    "decision_tree_model.fit(X_train, y_train)\n",
    "\n",
    "\n"
   ]
  },
  {
   "cell_type": "code",
   "execution_count": 254,
   "id": "e232331f",
   "metadata": {},
   "outputs": [],
   "source": [
    "# Make predictions\n",
    "y_pred_tree = decision_tree_model.predict(X_test)\n",
    "\n"
   ]
  },
  {
   "cell_type": "code",
   "execution_count": 255,
   "id": "d00df25f",
   "metadata": {},
   "outputs": [],
   "source": [
    "# Evaluate the model\n",
    "r_squared_tree = r2_score(y_test, y_pred_tree)\n",
    "adjusted_r_squared_tree = 1 - ((1 - r_squared_tree) * (len(y_test) - 1) / (len(y_test) - len(features) - 1))\n",
    "rmse_tree = mean_squared_error(y_test, y_pred_tree, squared=False)\n",
    "mae_tree = mean_absolute_error(y_test, y_pred_tree)\n"
   ]
  },
  {
   "cell_type": "code",
   "execution_count": 257,
   "id": "b425e8a2",
   "metadata": {},
   "outputs": [
    {
     "name": "stdout",
     "output_type": "stream",
     "text": [
      "Linear Regression RMSE: 2.475203820387455\n",
      "Decision Tree Regressor RMSE: 0.0\n"
     ]
    }
   ],
   "source": [
    "import numpy as np\n",
    "from sklearn.metrics import mean_squared_error\n",
    "\n",
    "\n",
    "# Calculate RMSE for Linear Regression\n",
    "rmse = np.sqrt(mean_squared_error(y_test, y_pred))\n",
    "\n",
    "# Calculate RMSE for Decision Tree Regressor\n",
    "rmse_tree = np.sqrt(mean_squared_error(y_test, y_pred_tree))\n",
    "\n",
    "# Print RMSE for both models\n",
    "print(f'Linear Regression RMSE: {rmse}')\n",
    "print(f'Decision Tree Regressor RMSE: {rmse_tree}')\n"
   ]
  },
  {
   "cell_type": "code",
   "execution_count": 260,
   "id": "a6f6b42b",
   "metadata": {},
   "outputs": [
    {
     "name": "stdout",
     "output_type": "stream",
     "text": [
      "Linear Regression MAE: 1.8257913902102212\n",
      "Decision Tree Regressor MAE: 0.0\n"
     ]
    }
   ],
   "source": [
    "from sklearn.metrics import mean_absolute_error\n",
    "# Calculate MAE for Linear Regression\n",
    "mae = mean_absolute_error(y_test, y_pred)\n",
    "\n",
    "# Calculate MAE for Decision Tree Regressor\n",
    "mae_tree = mean_absolute_error(y_test, y_pred_tree)\n",
    "\n",
    "# Print MAE for both models\n",
    "print(f'Linear Regression MAE: {mae}')\n",
    "print(f'Decision Tree Regressor MAE: {mae_tree}')\n"
   ]
  },
  {
   "cell_type": "code",
   "execution_count": 261,
   "id": "ced67a59",
   "metadata": {},
   "outputs": [
    {
     "name": "stdout",
     "output_type": "stream",
     "text": [
      "R-squared (Decision Tree): 1.0\n",
      "Adjusted R-squared (Decision Tree): 1.0\n",
      "RMSE (Decision Tree): 0.0\n",
      "MAE (Decision Tree): 0.0\n"
     ]
    }
   ],
   "source": [
    "\n",
    "print(f'R-squared (Decision Tree): {r_squared_tree}')\n",
    "print(f'Adjusted R-squared (Decision Tree): {adjusted_r_squared_tree}')\n",
    "print(f'RMSE (Decision Tree): {rmse_tree}')\n",
    "print(f'MAE (Decision Tree): {mae_tree}')"
   ]
  },
  {
   "cell_type": "markdown",
   "id": "5982c623",
   "metadata": {},
   "source": [
    "Create a predictive model."
   ]
  },
  {
   "cell_type": "code",
   "execution_count": 271,
   "id": "ea79af91",
   "metadata": {},
   "outputs": [
    {
     "name": "stdout",
     "output_type": "stream",
     "text": [
      "Predicted Premium (Decision Tree Regressor): 105.0\n"
     ]
    }
   ],
   "source": [
    "# Create a DataFrame with new data points for prediction\n",
    "new_data = pd.DataFrame({'total_distance_kilometers': [1000], 'average_speed': [80]})\n",
    "\n",
    "# Use the trained Decision Tree model to predict premium for new data points\n",
    "predicted_premium_tree = decision_tree_model.predict(new_data)\n",
    "\n",
    "# Print the predicted premium\n",
    "print(f'Predicted Premium (Decision Tree Regressor): {predicted_premium_tree[0]}')\n"
   ]
  },
  {
   "cell_type": "code",
   "execution_count": 272,
   "id": "f1b0dfe6",
   "metadata": {},
   "outputs": [
    {
     "data": {
      "image/png": "[encoded data removed]",
      "text/plain": [
       "<Figure size 1000x600 with 1 Axes>"
      ]
     },
     "metadata": {},
     "output_type": "display_data"
    },
    {
     "name": "stdout",
     "output_type": "stream",
     "text": [
      "Linear Regression R-squared: 0.7243014721392707\n",
      "Decision Tree Regressor R-squared: 1.0\n",
      "Linear Regression Adjusted R-squared: 0.6324019628523609\n",
      "Decision Tree Regressor Adjusted R-squared: 1.0\n",
      "Linear Regression RMSE: 2.475203820387455\n",
      "Decision Tree Regressor RMSE: 0.0\n",
      "Linear Regression MAE: 1.8257913902102212\n",
      "Decision Tree Regressor MAE: 0.0\n"
     ]
    }
   ],
   "source": [
    "import matplotlib.pyplot as plt\n",
    "import numpy as np\n",
    "\n",
    "# Assuming you have both Linear Regression and Decision Tree models trained and predictions made\n",
    "\n",
    "# Plot the actual vs. predicted values for both models\n",
    "plt.figure(figsize=(10, 6))\n",
    "plt.scatter(y_test, y_pred, label='Linear Regression', alpha=0.7)\n",
    "plt.scatter(y_test, y_pred_tree, label='Decision Tree Regressor', alpha=0.7)\n",
    "plt.xlabel('Actual Premium')\n",
    "plt.ylabel('Predicted Premium')\n",
    "plt.title('Actual vs. Predicted Premium')\n",
    "plt.legend()\n",
    "plt.grid(True)\n",
    "plt.show()\n",
    "\n",
    "# Compare evaluation metrics\n",
    "print(f'Linear Regression R-squared: {r_squared}')\n",
    "print(f'Decision Tree Regressor R-squared: {r_squared_tree}')\n",
    "\n",
    "print(f'Linear Regression Adjusted R-squared: {adjusted_r_squared}')\n",
    "print(f'Decision Tree Regressor Adjusted R-squared: {adjusted_r_squared_tree}')\n",
    "\n",
    "print(f'Linear Regression RMSE: {rmse}')\n",
    "print(f'Decision Tree Regressor RMSE: {rmse_tree}')\n",
    "\n",
    "print(f'Linear Regression MAE: {mae}')\n",
    "print(f'Decision Tree Regressor MAE: {mae_tree}')\n"
   ]
  },
  {
   "cell_type": "markdown",
   "id": "84410b48",
   "metadata": {},
   "source": [
    "Results\n",
    "\n",
    "The scatter plot reveals the following about the two models:\n",
    "\n",
    "1. The Linear Regression model shows a positive correlation and reasonably accurate predictions, with some outliers.\n",
    "\n",
    "2. The Decision Tree Regressor model appears to have overfitted the data, resulting in perfect predictions on the test data. However, this level of perfect alignment with the actual values may be suspicious and could indicate overfitting.\n",
    "\n",
    "It's important to note that while the Decision Tree Regressor model's perfect alignment with the diagonal line may seem desirable, it could be a sign of overfitting, and the model's performance on unseen data (generalization) should be carefully assessed. Additionally, further evaluation and cross-validation are essential to determine the robustness and reliability of both models.\n",
    "\n",
    "\n",
    "R-squared (R²)\n",
    "\n",
    "The results for Linear Regression R-squared were 0.7243014721392707.\n",
    "Decision Tree Regressor R-squared results was 1.0.\n",
    "Because a higher R-squared value indicates a better fit to the data, the Decision Tree Regressor, which has an R-squared of 1.0, indicates a perfect fit to the training data, while Linear Regression has an R-squared of 0.7243. However, a perfect R-squared of 1.0 may also indicate overfitting in the Decision Tree model. So, other evaluation criteria must also be looked at.\n",
    "\n",
    "Adjusted R-squared\n",
    "\n",
    "Linear Regression Adjusted R-squared rusults was 0.6324019628523609.\n",
    "Decision Tree Regressor Adjusted R-squared was 1.0.\n",
    "Adjusted R-squared takes into account the number of predictors in the model and penalizes for overfitting. The Decision Tree Regressor still has a higher Adjusted R-squared, suggesting a better fit even after considering the model complexity.\n",
    "\n",
    "RMSE (Root Mean Squared Error)\n",
    "\n",
    "Linear Regression RMSE results were 2.475203820387455.\n",
    "Decision Tree Regressor RMSE was 0.0.\n",
    "RMSE measures the average prediction error, with lower values indicating better model performance. The Decision Tree Regressor has an RMSE of 0.0, which is suspiciously perfect and may be a result of overfitting, while Linear Regression has a non-zero RMSE.\n",
    "\n",
    "MAE (Mean Absolute Error) \n",
    "\n",
    "Linear Regression MAE resulst was 1.8257913902102212.\n",
    "Decision Tree Regressor MAE was 0.0.\n",
    "MAE measures the absolute error between predicted and actual values, and lower values are better. Again, the Decision Tree Regressor has a perfect MAE of 0.0, which may indicate overfitting.\n",
    "\n",
    "Considering these metrics, it's important to note that the Decision Tree Regressor appears to perform perfectly on your training data, but this may be due to overfitting. Overfit models may not generalize well to new, unseen data. Therefore, the Linear Regression model with its non-zero RMSE and MAE, and a reasonable R-squared and Adjusted R-squared, may be a better choice for generalization to new data.\n",
    "\n",
    "It is also very important to validate these models on a separate test dataset or use cross-validation techniques to get a more accurate assessment of their performance on unseen data. This will help make a more informed decision about which model is truly better for this problem.  This can be considered a possible area of future research."
   ]
  },
  {
   "cell_type": "markdown",
   "id": "a94ac6cf",
   "metadata": {},
   "source": [
    "Possible Avenues for Future Research\n",
    "\n",
    "There are a few areas of research that would be interesting to further pursue after this project.  These include the following:\n",
    "\n",
    "1. Customer Segmentation: Segment the dataset into different customer groups or profiles and build separate predictive models for each segment. This approach may lead to more accurate predictions by accounting for different risk profiles.\n",
    "\n",
    "2. Business Impact Analysis: Assess the practical implications of using the predictive models for premium prediction. Evaluate how the models can impact insurance pricing, risk assessment, and customer engagement.\n",
    "\n",
    "3. Ethical and Fairness Considerations: Examine potential biases in the data and models and implement fairness-aware machine learning techniques to ensure that premium predictions are fair and unbiased across different demographic groups.\n",
    "\n",
    "4. Data Privacy and Security: Address data privacy and security concerns when dealing with sensitive customer information. Ensure compliance with data protection regulations and implement robust security measures."
   ]
  },
  {
   "cell_type": "markdown",
   "id": "d8357ed8",
   "metadata": {},
   "source": [
    "Conclusion\n",
    "\n",
    "The Linear Regression model offers a more interpretable linear relationship with the data and may be preferred when interpretability is crucial. On the other hand, the Decision Tree Regressor model, while seemingly providing perfect predictions, raises concerns about overfitting and may require further evaluation and regularization techniques to ensure its reliability on new data.\n",
    "\n",
    "In practice, it is advisable to perform additional model validation, such as cross-validation and testing on completely unseen data, to make a final decision about model selection and to address potential overfitting issues in the Decision Tree Regressor model. Additionally, considering the business context and interpretability requirements is essential when choosing a predictive model for premium prediction."
   ]
  },
  {
   "cell_type": "code",
   "execution_count": null,
   "id": "89b14480",
   "metadata": {},
   "outputs": [],
   "source": []
  }
 ],
 "metadata": {
  "kernelspec": {
   "display_name": "Python 3 (ipykernel)",
   "language": "python",
   "name": "python3"
  },
  "language_info": {
   "codemirror_mode": {
    "name": "ipython",
    "version": 3
   },
   "file_extension": ".py",
   "mimetype": "text/x-python",
   "name": "python",
   "nbconvert_exporter": "python",
   "pygments_lexer": "ipython3",
   "version": "3.9.13"
  }
 },
 "nbformat": 4,
 "nbformat_minor": 5
}
